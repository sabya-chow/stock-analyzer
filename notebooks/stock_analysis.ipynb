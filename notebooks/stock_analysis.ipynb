{
 "cells": [
  {
   "cell_type": "code",
   "execution_count": 1,
   "id": "8422771f",
   "metadata": {},
   "outputs": [],
   "source": [
    "import sys\n",
    "import os\n",
    "\n",
    "# Add parent directory to Python path so that `src` becomes importable\n",
    "sys.path.append(os.path.abspath(\"..\"))\n"
   ]
  },
  {
   "cell_type": "code",
   "execution_count": 2,
   "id": "76aa9d1b",
   "metadata": {},
   "outputs": [],
   "source": [
    "import sys\n",
    "import os\n",
    "\n",
    "# Make the parent directory (project root) importable\n",
    "sys.path.append(os.path.abspath(os.path.join(os.getcwd(), \"..\")))\n"
   ]
  },
  {
   "cell_type": "code",
   "execution_count": 3,
   "id": "c76d6972",
   "metadata": {},
   "outputs": [
    {
     "name": "stdout",
     "output_type": "stream",
     "text": [
      "Saved OHLC data to: data/processed\\TCS_ohlc.csv\n"
     ]
    }
   ],
   "source": [
    "from src.fetch_data import get_stock_data, save_stock_data\n",
    "\n",
    "df = get_stock_data(\"TCS.NS\", period=\"1y\", interval=\"1d\")\n",
    "df.head()\n",
    "\n",
    "save_stock_data(df, ticker=\"TCS\")\n"
   ]
  },
  {
   "cell_type": "code",
   "execution_count": 4,
   "id": "c7aced7f",
   "metadata": {},
   "outputs": [
    {
     "name": "stdout",
     "output_type": "stream",
     "text": [
      "Loaded 51 pages\n",
      "9th Floor Nirmal Building Nariman Point Mumbai 400 021 \n",
      "Tel 91 22 6778 9595 Fax 91 22 6630 3672 e-mail corporate.office@tcs.com website www.tcs.com \n",
      "Registered Office 9th Floor Nirmal Building Nariman Point Mumbai 400 021 \n",
      "Corporate Identity No. (CIN): L22210MH1995PLC084781 \n",
      "BSE Limited \n",
      "P. J. Towers,   \n",
      "Dalal Street, \n",
      "Mumbai - 400001   \n",
      "Scrip Code No. 532540 \n",
      "TCS/SE/13/2025-26 \n",
      "April 12, 2025 \n",
      "National Stock Exchange of India Limited \n",
      "Exchange Plaza, C-1, Block G,\n",
      " \n",
      "Bandra Kurla Complex, Bandra\n"
     ]
    }
   ],
   "source": [
    "from src.fetch_transcripts import load_transcript_texts\n",
    "\n",
    "docs = load_transcript_texts()\n",
    "print(f\"Loaded {len(docs)} pages\")\n",
    "print(docs[0].page_content[:500])  # Preview first 500 chars\n"
   ]
  },
  {
   "cell_type": "code",
   "execution_count": null,
   "id": "f61f1cf4",
   "metadata": {},
   "outputs": [],
   "source": []
  }
 ],
 "metadata": {
  "kernelspec": {
   "display_name": "Python (venv)",
   "language": "python",
   "name": "venv"
  },
  "language_info": {
   "codemirror_mode": {
    "name": "ipython",
    "version": 3
   },
   "file_extension": ".py",
   "mimetype": "text/x-python",
   "name": "python",
   "nbconvert_exporter": "python",
   "pygments_lexer": "ipython3",
   "version": "3.11.9"
  }
 },
 "nbformat": 4,
 "nbformat_minor": 5
}
